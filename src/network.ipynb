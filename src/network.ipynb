{
 "cells": [
  {
   "cell_type": "code",
   "execution_count": 1,
   "metadata": {
    "collapsed": true
   },
   "outputs": [],
   "source": [
    "from pgmpy.estimators import MaximumLikelihoodEstimator, K2Score\n",
    "from pgmpy.factors.discrete import State\n",
    "from pgmpy.estimators import HillClimbSearch\n",
    "from pgmpy.inference import VariableElimination\n",
    "from pgmpy.models import BayesianModel\n",
    "from pgmpy.sampling import BayesianModelSampling\n",
    "\n",
    "import networkx as nx\n",
    "import pylab as plt\n",
    "import pandas as pd\n",
    "import numpy as np\n",
    "import pathlib"
   ]
  },
  {
   "cell_type": "markdown",
   "source": [
    "### Loading Pollen Data\n",
    "\n",
    "Firstly we load the pollen data that has been merged with relevant weather information.\n",
    "The dataset is partially preprocessed before this step in ```create_dataset.py```.\n",
    "The preprocess steps that happen here are the followiong:\n",
    "\n",
    "* We discretize some columns of the dataset with ```pandas.qcut``` which\n",
    "discretizes into equal-sized buckets based on rank or based on sample quantiles.\n",
    "\n",
    "* If ```AVG``` is set to ```True``` then daily temperature and daily wind velocity gets\n",
    "averaged."
   ],
   "metadata": {
    "collapsed": false,
    "pycharm": {
     "name": "#%% md\n"
    }
   }
  },
  {
   "cell_type": "code",
   "execution_count": 2,
   "outputs": [
    {
     "data": {
      "text/plain": "      CONC  PREC  DIR  TAVG  VAVG\n0        0     0    0     1     0\n1        0     0    0     1     0\n2        0     1    0     1     0\n3        0     0    0     1     0\n4        0     1    0     2     0\n...    ...   ...  ...   ...   ...\n3458     0     1    3     1     2\n3459     0     1    5     1     2\n3460     0     1    1     0     0\n3461     0     1    3     0     0\n3462     0     1    3     1     1\n\n[3463 rows x 5 columns]",
      "text/html": "<div>\n<style scoped>\n    .dataframe tbody tr th:only-of-type {\n        vertical-align: middle;\n    }\n\n    .dataframe tbody tr th {\n        vertical-align: top;\n    }\n\n    .dataframe thead th {\n        text-align: right;\n    }\n</style>\n<table border=\"1\" class=\"dataframe\">\n  <thead>\n    <tr style=\"text-align: right;\">\n      <th></th>\n      <th>CONC</th>\n      <th>PREC</th>\n      <th>DIR</th>\n      <th>TAVG</th>\n      <th>VAVG</th>\n    </tr>\n  </thead>\n  <tbody>\n    <tr>\n      <th>0</th>\n      <td>0</td>\n      <td>0</td>\n      <td>0</td>\n      <td>1</td>\n      <td>0</td>\n    </tr>\n    <tr>\n      <th>1</th>\n      <td>0</td>\n      <td>0</td>\n      <td>0</td>\n      <td>1</td>\n      <td>0</td>\n    </tr>\n    <tr>\n      <th>2</th>\n      <td>0</td>\n      <td>1</td>\n      <td>0</td>\n      <td>1</td>\n      <td>0</td>\n    </tr>\n    <tr>\n      <th>3</th>\n      <td>0</td>\n      <td>0</td>\n      <td>0</td>\n      <td>1</td>\n      <td>0</td>\n    </tr>\n    <tr>\n      <th>4</th>\n      <td>0</td>\n      <td>1</td>\n      <td>0</td>\n      <td>2</td>\n      <td>0</td>\n    </tr>\n    <tr>\n      <th>...</th>\n      <td>...</td>\n      <td>...</td>\n      <td>...</td>\n      <td>...</td>\n      <td>...</td>\n    </tr>\n    <tr>\n      <th>3458</th>\n      <td>0</td>\n      <td>1</td>\n      <td>3</td>\n      <td>1</td>\n      <td>2</td>\n    </tr>\n    <tr>\n      <th>3459</th>\n      <td>0</td>\n      <td>1</td>\n      <td>5</td>\n      <td>1</td>\n      <td>2</td>\n    </tr>\n    <tr>\n      <th>3460</th>\n      <td>0</td>\n      <td>1</td>\n      <td>1</td>\n      <td>0</td>\n      <td>0</td>\n    </tr>\n    <tr>\n      <th>3461</th>\n      <td>0</td>\n      <td>1</td>\n      <td>3</td>\n      <td>0</td>\n      <td>0</td>\n    </tr>\n    <tr>\n      <th>3462</th>\n      <td>0</td>\n      <td>1</td>\n      <td>3</td>\n      <td>1</td>\n      <td>1</td>\n    </tr>\n  </tbody>\n</table>\n<p>3463 rows × 5 columns</p>\n</div>"
     },
     "execution_count": 2,
     "metadata": {},
     "output_type": "execute_result"
    }
   ],
   "source": [
    "cwd = pathlib.Path.cwd()\n",
    "project_cwd = cwd.parent\n",
    "AVG = True\n",
    "\n",
    "pollen_data = pd.read_csv(f'{project_cwd}/datasets/grasses_weather.csv', sep=\";\")\n",
    "\n",
    "if AVG:\n",
    "    pollen_data[\"TAVG\"] = pollen_data[['TMAX', 'TMIN']].mean(axis=1)\n",
    "    pollen_data[\"VAVG\"] = pollen_data[['VMAX', 'VMIN']].mean(axis=1)\n",
    "    pollen_data.drop([\"INDEX\", \"TMAX\", \"TMIN\", \"VMAX\", \"VMIN\"], axis=1, inplace=True)\n",
    "    pollen_data['TAVG'] = pd.qcut(pollen_data['TAVG'], q=10, labels=False)\n",
    "    pollen_data['VAVG'] = pd.qcut(pollen_data['VAVG'], q=3, labels=False)\n",
    "else:\n",
    "    pollen_data.drop([\"INDEX\"], axis=1, inplace=True)\n",
    "    pollen_data['VMIN'] = pd.qcut(pollen_data['VMIN'], q=3, labels=False)\n",
    "    pollen_data['VMAX'] = pd.qcut(pollen_data['VMAX'], q=3, labels=False)\n",
    "    pollen_data['TMIN'] = pd.qcut(pollen_data['TMIN'], q=10, labels=False)\n",
    "    pollen_data['TMAX'] = pd.qcut(pollen_data['TMAX'], q=10, labels=False)\n",
    "\n",
    "pollen_data['CONC'] = pd.qcut(pollen_data['CONC'], q=5, labels=False, duplicates=\"drop\")\n",
    "pollen_data['PREC'] = pd.qcut(pollen_data['PREC'], q=3, labels=False, duplicates=\"drop\")\n",
    "\n",
    "pollen_data"
   ],
   "metadata": {
    "collapsed": false,
    "pycharm": {
     "name": "#%%\n"
    }
   }
  },
  {
   "cell_type": "markdown",
   "source": [
    "### A look at the data"
   ],
   "metadata": {
    "collapsed": false,
    "pycharm": {
     "name": "#%% md\n"
    }
   }
  },
  {
   "cell_type": "code",
   "execution_count": 3,
   "outputs": [
    {
     "data": {
      "text/plain": "              CONC         PREC          DIR         TAVG         VAVG\ncount  3463.000000  3463.000000  3463.000000  3463.000000  3463.000000\nmean      1.147271     0.282125     3.335258     4.492059     0.993358\nstd       1.195612     0.450099     2.194458     2.873992     0.820528\nmin       0.000000     0.000000     0.000000     0.000000     0.000000\n25%       0.000000     0.000000     1.000000     2.000000     0.000000\n50%       1.000000     0.000000     3.000000     4.000000     1.000000\n75%       2.000000     1.000000     5.000000     7.000000     2.000000\nmax       3.000000     1.000000     7.000000     9.000000     2.000000",
      "text/html": "<div>\n<style scoped>\n    .dataframe tbody tr th:only-of-type {\n        vertical-align: middle;\n    }\n\n    .dataframe tbody tr th {\n        vertical-align: top;\n    }\n\n    .dataframe thead th {\n        text-align: right;\n    }\n</style>\n<table border=\"1\" class=\"dataframe\">\n  <thead>\n    <tr style=\"text-align: right;\">\n      <th></th>\n      <th>CONC</th>\n      <th>PREC</th>\n      <th>DIR</th>\n      <th>TAVG</th>\n      <th>VAVG</th>\n    </tr>\n  </thead>\n  <tbody>\n    <tr>\n      <th>count</th>\n      <td>3463.000000</td>\n      <td>3463.000000</td>\n      <td>3463.000000</td>\n      <td>3463.000000</td>\n      <td>3463.000000</td>\n    </tr>\n    <tr>\n      <th>mean</th>\n      <td>1.147271</td>\n      <td>0.282125</td>\n      <td>3.335258</td>\n      <td>4.492059</td>\n      <td>0.993358</td>\n    </tr>\n    <tr>\n      <th>std</th>\n      <td>1.195612</td>\n      <td>0.450099</td>\n      <td>2.194458</td>\n      <td>2.873992</td>\n      <td>0.820528</td>\n    </tr>\n    <tr>\n      <th>min</th>\n      <td>0.000000</td>\n      <td>0.000000</td>\n      <td>0.000000</td>\n      <td>0.000000</td>\n      <td>0.000000</td>\n    </tr>\n    <tr>\n      <th>25%</th>\n      <td>0.000000</td>\n      <td>0.000000</td>\n      <td>1.000000</td>\n      <td>2.000000</td>\n      <td>0.000000</td>\n    </tr>\n    <tr>\n      <th>50%</th>\n      <td>1.000000</td>\n      <td>0.000000</td>\n      <td>3.000000</td>\n      <td>4.000000</td>\n      <td>1.000000</td>\n    </tr>\n    <tr>\n      <th>75%</th>\n      <td>2.000000</td>\n      <td>1.000000</td>\n      <td>5.000000</td>\n      <td>7.000000</td>\n      <td>2.000000</td>\n    </tr>\n    <tr>\n      <th>max</th>\n      <td>3.000000</td>\n      <td>1.000000</td>\n      <td>7.000000</td>\n      <td>9.000000</td>\n      <td>2.000000</td>\n    </tr>\n  </tbody>\n</table>\n</div>"
     },
     "execution_count": 3,
     "metadata": {},
     "output_type": "execute_result"
    }
   ],
   "source": [
    "pollen_data.describe()\n"
   ],
   "metadata": {
    "collapsed": false,
    "pycharm": {
     "name": "#%%\n"
    }
   }
  },
  {
   "cell_type": "markdown",
   "source": [
    "### Model construction\n",
    "Construction of the model in order to see relationships and graphs"
   ],
   "metadata": {
    "collapsed": false,
    "pycharm": {
     "name": "#%% md\n"
    }
   }
  },
  {
   "cell_type": "code",
   "execution_count": 4,
   "outputs": [
    {
     "name": "stderr",
     "output_type": "stream",
     "text": [
      "  0%|          | 6/10000 [00:00<04:56, 33.69it/s]\n"
     ]
    },
    {
     "data": {
      "text/plain": "<Figure size 432x288 with 1 Axes>",
      "image/png": "[encoded data removed]"
     },
     "metadata": {},
     "output_type": "display_data"
    }
   ],
   "source": [
    "scoring_method = K2Score(data=pollen_data)\n",
    "est = HillClimbSearch(data=pollen_data)\n",
    "estimated_model = est.estimate(scoring_method=scoring_method,\n",
    "                               max_indegree=4, max_iter=int(1e4))\n",
    "\n",
    "nx.draw(estimated_model, with_labels=True, arrowsize=25,\n",
    "        node_size=800, alpha=0.8, font_weight='bold')\n",
    "plt.show()\n",
    "\n"
   ],
   "metadata": {
    "collapsed": false,
    "pycharm": {
     "name": "#%%\n"
    }
   }
  },
  {
   "cell_type": "markdown",
   "source": [
    "### CPDs"
   ],
   "metadata": {
    "collapsed": false,
    "pycharm": {
     "name": "#%% md\n"
    }
   }
  },
  {
   "cell_type": "code",
   "execution_count": 5,
   "outputs": [
    {
     "name": "stdout",
     "output_type": "stream",
     "text": [
      "+---------+----------+\n",
      "| CONC(0) | 0.451632 |\n",
      "+---------+----------+\n",
      "| CONC(1) | 0.149581 |\n",
      "+---------+----------+\n",
      "| CONC(2) | 0.198672 |\n",
      "+---------+----------+\n",
      "| CONC(3) | 0.200116 |\n",
      "+---------+----------+ \n",
      "\n",
      "+---------+----------------------+---------------------+----------------------+----------------------+\n",
      "| CONC    | CONC(0)              | CONC(1)             | CONC(2)              | CONC(3)              |\n",
      "+---------+----------------------+---------------------+----------------------+----------------------+\n",
      "| TAVG(0) | 0.17710997442455242  | 0.03861003861003861 | 0.0377906976744186   | 0.03896103896103896  |\n",
      "+---------+----------------------+---------------------+----------------------+----------------------+\n",
      "| TAVG(1) | 0.1636828644501279   | 0.0637065637065637  | 0.040697674418604654 | 0.050505050505050504 |\n",
      "+---------+----------------------+---------------------+----------------------+----------------------+\n",
      "| TAVG(2) | 0.14130434782608695  | 0.11003861003861004 | 0.046511627906976744 | 0.04040404040404041  |\n",
      "+---------+----------------------+---------------------+----------------------+----------------------+\n",
      "| TAVG(3) | 0.12404092071611253  | 0.11196911196911197 | 0.09447674418604651  | 0.04329004329004329  |\n",
      "+---------+----------------------+---------------------+----------------------+----------------------+\n",
      "| TAVG(4) | 0.10549872122762148  | 0.0888030888030888  | 0.11627906976744186  | 0.07936507936507936  |\n",
      "+---------+----------------------+---------------------+----------------------+----------------------+\n",
      "| TAVG(5) | 0.07800511508951406  | 0.08494208494208494 | 0.08430232558139535  | 0.17604617604617603  |\n",
      "+---------+----------------------+---------------------+----------------------+----------------------+\n",
      "| TAVG(6) | 0.06521739130434782  | 0.14864864864864866 | 0.08139534883720931  | 0.15873015873015872  |\n",
      "+---------+----------------------+---------------------+----------------------+----------------------+\n",
      "| TAVG(7) | 0.053069053708439895 | 0.12162162162162163 | 0.11918604651162791  | 0.1746031746031746   |\n",
      "+---------+----------------------+---------------------+----------------------+----------------------+\n",
      "| TAVG(8) | 0.03964194373401535  | 0.1138996138996139  | 0.19186046511627908  | 0.13997113997113997  |\n",
      "+---------+----------------------+---------------------+----------------------+----------------------+\n",
      "| TAVG(9) | 0.052429667519181586 | 0.11776061776061776 | 0.1875               | 0.09812409812409813  |\n",
      "+---------+----------------------+---------------------+----------------------+----------------------+ \n",
      "\n",
      "+---------+---------------------+---------------------+--------------------+--------------------+---------------------+---------------------+--------------------+---------------------+---------------------+----------------------+\n",
      "| TAVG    | TAVG(0)             | TAVG(1)             | TAVG(2)            | TAVG(3)            | TAVG(4)             | TAVG(5)             | TAVG(6)            | TAVG(7)             | TAVG(8)             | TAVG(9)              |\n",
      "+---------+---------------------+---------------------+--------------------+--------------------+---------------------+---------------------+--------------------+---------------------+---------------------+----------------------+\n",
      "| PREC(0) | 0.7714285714285715  | 0.6392045454545454  | 0.5532544378698225 | 0.5850144092219021 | 0.6358381502890174  | 0.6878612716763006  | 0.6898550724637681 | 0.7593123209169055  | 0.8971428571428571  | 0.9588235294117647   |\n",
      "+---------+---------------------+---------------------+--------------------+--------------------+---------------------+---------------------+--------------------+---------------------+---------------------+----------------------+\n",
      "| PREC(1) | 0.22857142857142856 | 0.36079545454545453 | 0.4467455621301775 | 0.414985590778098  | 0.36416184971098264 | 0.31213872832369943 | 0.3101449275362319 | 0.24068767908309455 | 0.10285714285714286 | 0.041176470588235294 |\n",
      "+---------+---------------------+---------------------+--------------------+--------------------+---------------------+---------------------+--------------------+---------------------+---------------------+----------------------+ \n",
      "\n",
      "+--------+----------------------+-----------------------+----------------------+----------------------+----------------------+----------------------+\n",
      "| PREC   | PREC(0)              | PREC(0)               | PREC(0)              | PREC(1)              | PREC(1)              | PREC(1)              |\n",
      "+--------+----------------------+-----------------------+----------------------+----------------------+----------------------+----------------------+\n",
      "| VAVG   | VAVG(0)              | VAVG(1)               | VAVG(2)              | VAVG(0)              | VAVG(1)              | VAVG(2)              |\n",
      "+--------+----------------------+-----------------------+----------------------+----------------------+----------------------+----------------------+\n",
      "| DIR(0) | 0.0681044267877412   | 0.038834951456310676  | 0.17541613316261204  | 0.11148648648648649  | 0.05844155844155844  | 0.1447721179624665   |\n",
      "+--------+----------------------+-----------------------+----------------------+----------------------+----------------------+----------------------+\n",
      "| DIR(1) | 0.14755959137343927  | 0.19053398058252427   | 0.34699103713188223  | 0.21283783783783783  | 0.21428571428571427  | 0.2707774798927614   |\n",
      "+--------+----------------------+-----------------------+----------------------+----------------------+----------------------+----------------------+\n",
      "| DIR(2) | 0.011350737797956867 | 0.0048543689320388345 | 0.010243277848911651 | 0.037162162162162164 | 0.01948051948051948  | 0.002680965147453083 |\n",
      "+--------+----------------------+-----------------------+----------------------+----------------------+----------------------+----------------------+\n",
      "| DIR(3) | 0.29284903518728717  | 0.33737864077669905   | 0.19206145966709348  | 0.20945945945945946  | 0.2305194805194805   | 0.19302949061662197  |\n",
      "+--------+----------------------+-----------------------+----------------------+----------------------+----------------------+----------------------+\n",
      "| DIR(4) | 0.012485811577752554 | 0.014563106796116505  | 0.014084507042253521 | 0.030405405405405407 | 0.025974025974025976 | 0.01876675603217158  |\n",
      "+--------+----------------------+-----------------------+----------------------+----------------------+----------------------+----------------------+\n",
      "| DIR(5) | 0.1611804767309875   | 0.12135922330097088   | 0.10627400768245839  | 0.15202702702702703  | 0.19480519480519481  | 0.16353887399463807  |\n",
      "+--------+----------------------+-----------------------+----------------------+----------------------+----------------------+----------------------+\n",
      "| DIR(6) | 0.2656072644721907   | 0.25606796116504854   | 0.11651728553137004  | 0.19256756756756757  | 0.18831168831168832  | 0.1447721179624665   |\n",
      "+--------+----------------------+-----------------------+----------------------+----------------------+----------------------+----------------------+\n",
      "| DIR(7) | 0.04086265607264472  | 0.03640776699029126   | 0.03841229193341869  | 0.05405405405405406  | 0.06818181818181818  | 0.06166219839142091  |\n",
      "+--------+----------------------+-----------------------+----------------------+----------------------+----------------------+----------------------+ \n",
      "\n",
      "+---------+---------------------+---------------------+---------------------+---------------------+--------------------+---------------------+--------------------+--------------------+---------------------+---------------------+\n",
      "| TAVG    | TAVG(0)             | TAVG(1)             | TAVG(2)             | TAVG(3)             | TAVG(4)            | TAVG(5)             | TAVG(6)            | TAVG(7)            | TAVG(8)             | TAVG(9)             |\n",
      "+---------+---------------------+---------------------+---------------------+---------------------+--------------------+---------------------+--------------------+--------------------+---------------------+---------------------+\n",
      "| VAVG(0) | 0.4657142857142857  | 0.45170454545454547 | 0.41420118343195267 | 0.36023054755043227 | 0.3988439306358382 | 0.36416184971098264 | 0.3101449275362319 | 0.2349570200573066 | 0.20285714285714285 | 0.19411764705882353 |\n",
      "+---------+---------------------+---------------------+---------------------+---------------------+--------------------+---------------------+--------------------+--------------------+---------------------+---------------------+\n",
      "| VAVG(1) | 0.16857142857142857 | 0.20454545454545456 | 0.19230769230769232 | 0.28530259365994237 | 0.2947976878612717 | 0.3063583815028902  | 0.3507246376811594 | 0.4670487106017192 | 0.46285714285714286 | 0.538235294117647   |\n",
      "+---------+---------------------+---------------------+---------------------+---------------------+--------------------+---------------------+--------------------+--------------------+---------------------+---------------------+\n",
      "| VAVG(2) | 0.3657142857142857  | 0.34375             | 0.39349112426035504 | 0.35446685878962536 | 0.3063583815028902 | 0.32947976878612717 | 0.3391304347826087 | 0.2979942693409742 | 0.3342857142857143  | 0.2676470588235294  |\n",
      "+---------+---------------------+---------------------+---------------------+---------------------+--------------------+---------------------+--------------------+--------------------+---------------------+---------------------+ \n",
      "\n"
     ]
    }
   ],
   "source": [
    "bayesian_model = BayesianModel(estimated_model.edges())\n",
    "bayesian_model.fit(pollen_data, estimator=MaximumLikelihoodEstimator)\n",
    "for cpd in bayesian_model.get_cpds():\n",
    "    print(cpd, \"\\n\")\n"
   ],
   "metadata": {
    "collapsed": false,
    "pycharm": {
     "name": "#%%\n"
    }
   }
  },
  {
   "cell_type": "markdown",
   "source": [
    "### Let's analyze what happens with some evidence\n",
    "First let's set a very high value for average temperature."
   ],
   "metadata": {
    "collapsed": false,
    "pycharm": {
     "name": "#%% md\n"
    }
   }
  },
  {
   "cell_type": "code",
   "execution_count": 6,
   "outputs": [
    {
     "name": "stderr",
     "output_type": "stream",
     "text": [
      "Finding Elimination Order: : : 0it [00:00, ?it/s]\n",
      "0it [00:00, ?it/s]\u001B[A"
     ]
    },
    {
     "name": "stdout",
     "output_type": "stream",
     "text": [
      "+---------+-------------+\n",
      "| CONC    |   phi(CONC) |\n",
      "+=========+=============+\n",
      "| CONC(0) |      0.2412 |\n",
      "+---------+-------------+\n",
      "| CONC(1) |      0.1794 |\n",
      "+---------+-------------+\n",
      "| CONC(2) |      0.3794 |\n",
      "+---------+-------------+\n",
      "| CONC(3) |      0.2000 |\n",
      "+---------+-------------+\n"
     ]
    },
    {
     "name": "stderr",
     "output_type": "stream",
     "text": [
      "\n"
     ]
    }
   ],
   "source": [
    "exact_inference = VariableElimination(bayesian_model)\n",
    "print(exact_inference.query([\"CONC\"], evidence={'TAVG': 9}))"
   ],
   "metadata": {
    "collapsed": false,
    "pycharm": {
     "name": "#%%\n"
    }
   }
  },
  {
   "cell_type": "markdown",
   "source": [
    "As we can see from the output the most probable case is a medium/high level of grass pollen\n",
    "concentration.\n",
    "Let's see now for a low average temperature what happens."
   ],
   "metadata": {
    "collapsed": false,
    "pycharm": {
     "name": "#%% md\n"
    }
   }
  },
  {
   "cell_type": "code",
   "execution_count": 7,
   "outputs": [
    {
     "name": "stderr",
     "output_type": "stream",
     "text": [
      "\n",
      "Finding Elimination Order: : : 0it [00:00, ?it/s]\n",
      "0it [00:00, ?it/s]\u001B[A\n",
      "0it [00:00, ?it/s]n Order: : : 0it [00:00, ?it/s]\u001B[A"
     ]
    },
    {
     "name": "stdout",
     "output_type": "stream",
     "text": [
      "+---------+-------------+\n",
      "| CONC    |   phi(CONC) |\n",
      "+=========+=============+\n",
      "| CONC(0) |      0.6538 |\n",
      "+---------+-------------+\n",
      "| CONC(1) |      0.1686 |\n",
      "+---------+-------------+\n",
      "| CONC(2) |      0.0947 |\n",
      "+---------+-------------+\n",
      "| CONC(3) |      0.0828 |\n",
      "+---------+-------------+\n"
     ]
    },
    {
     "name": "stderr",
     "output_type": "stream",
     "text": [
      "\n"
     ]
    }
   ],
   "source": [
    "print(exact_inference.query([\"CONC\"], evidence={'TAVG': 2}))"
   ],
   "metadata": {
    "collapsed": false,
    "pycharm": {
     "name": "#%%\n"
    }
   }
  },
  {
   "cell_type": "markdown",
   "source": [
    "The probability is now in favor of a very low pollen concentration. So we can deduce that\n",
    "warm temperature has some influence in pollen concentration.\n",
    "Let's see the full spectrum now:"
   ],
   "metadata": {
    "collapsed": false,
    "pycharm": {
     "name": "#%% md\n"
    }
   }
  },
  {
   "cell_type": "code",
   "execution_count": 8,
   "outputs": [
    {
     "data": {
      "text/plain": "<Figure size 432x288 with 1 Axes>",
      "image/png": "[encoded data removed]"
     },
     "metadata": {
      "needs_background": "light"
     },
     "output_type": "display_data"
    },
    {
     "name": "stderr",
     "output_type": "stream",
     "text": [
      "Finding Elimination Order: : : 0it [00:00, ?it/s]\n"
     ]
    },
    {
     "data": {
      "text/plain": "<Figure size 432x288 with 1 Axes>",
      "image/png": "[encoded data removed]"
     },
     "metadata": {
      "needs_background": "light"
     },
     "output_type": "display_data"
    }
   ],
   "source": [
    "max_conc = []\n",
    "for t in range(pollen_data['TAVG'].max() + 1):\n",
    "    evidence = [State('TAVG', t)]\n",
    "    prob = exact_inference.query([\"CONC\"], evidence=dict(evidence), show_progress=False)\n",
    "    max_conc.append(prob.values[-1])\n",
    "\n",
    "plt.plot(range(len(max_conc)), max_conc)\n",
    "plt.title(\"Maximum Concetration on increasing Temperature\")\n",
    "plt.xlabel(\"Discretized Temperatures\")\n",
    "plt.ylabel(\"Maximum Concentration Probability\")\n",
    "plt.grid()\n",
    "plt.legend([])\n",
    "plt.tight_layout()\n",
    "plt.show()\n",
    "\n",
    "max_conc = []\n",
    "for v in range(pollen_data['VAVG'].max() + 1):\n",
    "    evidence = [State('VAVG', v)]\n",
    "    prob = exact_inference.query([\"CONC\"], evidence=dict(evidence), show_progress=False)\n",
    "    max_conc.append(prob.values[-1])\n",
    "\n",
    "plt.plot(range(len(max_conc)), max_conc)\n",
    "plt.title(\"Maximum Concetration on increasing Wind\")\n",
    "plt.xlabel(\"Discretized Wind Intensity\")\n",
    "plt.ylabel(\"Maximum Concentration Probability\")\n",
    "plt.grid()\n",
    "plt.legend([])\n",
    "plt.tight_layout()\n",
    "plt.show()"
   ],
   "metadata": {
    "collapsed": false,
    "pycharm": {
     "name": "#%%\n"
    }
   }
  },
  {
   "cell_type": "markdown",
   "source": [
    "### Approximate Inference\n",
    "It is worth to try also the approximate inference techniques such as Likelihood Weighting.\n",
    "The following function saves to an array the average error with respect to\n",
    "exact inference. This will help plot the graph over increasing size of the sample, showing that\n",
    "it will converge to a low value."
   ],
   "metadata": {
    "collapsed": false,
    "pycharm": {
     "name": "#%% md\n"
    }
   }
  },
  {
   "cell_type": "code",
   "execution_count": 9,
   "outputs": [
    {
     "name": "stderr",
     "output_type": "stream",
     "text": [
      "Generating for node: DIR: 100%|██████████| 5/5 [00:00<00:00, 503.74it/s]\n",
      "Generating for node: DIR: 100%|██████████| 5/5 [00:00<00:00, 416.90it/s]\n",
      "Generating for node: DIR: 100%|██████████| 5/5 [00:00<00:00, 242.75it/s]\n",
      "Generating for node: DIR: 100%|██████████| 5/5 [00:00<00:00, 266.97it/s]\n",
      "Generating for node: DIR: 100%|██████████| 5/5 [00:00<00:00, 262.79it/s]\n",
      "Generating for node: DIR: 100%|██████████| 5/5 [00:00<00:00, 222.32it/s]\n",
      "Generating for node: PREC:   0%|          | 0/5 [00:00<?, ?it/s]"
     ]
    },
    {
     "name": "stdout",
     "output_type": "stream",
     "text": [
      "P(CONC | [State(var='TAVG', state=8), State(var='VAVG', state=2)]) = [0.17714286 0.16857143 0.37714286 0.27714286]\n",
      "With Likelihood Weighting after 10 samples: (error = 1.37E-01)\n",
      "\n",
      "P(CONC | [State(var='TAVG', state=8), State(var='VAVG', state=2)]) = [0.17714286 0.16857143 0.37714286 0.27714286]\n",
      "With Likelihood Weighting after 1009 samples: (error = 5.53E-03)\n",
      "\n",
      "P(CONC | [State(var='TAVG', state=8), State(var='VAVG', state=2)]) = [0.17714286 0.16857143 0.37714286 0.27714286]\n",
      "With Likelihood Weighting after 2008 samples: (error = 8.12E-03)\n",
      "\n",
      "P(CONC | [State(var='TAVG', state=8), State(var='VAVG', state=2)]) = [0.17714286 0.16857143 0.37714286 0.27714286]\n",
      "With Likelihood Weighting after 3007 samples: (error = 1.90E-02)\n",
      "\n",
      "P(CONC | [State(var='TAVG', state=8), State(var='VAVG', state=2)]) = [0.17714286 0.16857143 0.37714286 0.27714286]\n",
      "With Likelihood Weighting after 4006 samples: (error = 5.34E-03)\n",
      "\n",
      "P(CONC | [State(var='TAVG', state=8), State(var='VAVG', state=2)]) = [0.17714286 0.16857143 0.37714286 0.27714286]\n",
      "With Likelihood Weighting after 5005 samples: (error = 7.99E-03)\n",
      "\n"
     ]
    },
    {
     "name": "stderr",
     "output_type": "stream",
     "text": [
      "Generating for node: DIR: 100%|██████████| 5/5 [00:00<00:00, 195.27it/s]\n",
      "Generating for node: DIR: 100%|██████████| 5/5 [00:00<00:00, 176.77it/s]\n",
      "Generating for node: DIR: 100%|██████████| 5/5 [00:00<00:00, 175.51it/s]\n",
      "Generating for node: DIR: 100%|██████████| 5/5 [00:00<00:00, 138.59it/s]\n"
     ]
    },
    {
     "name": "stdout",
     "output_type": "stream",
     "text": [
      "P(CONC | [State(var='TAVG', state=8), State(var='VAVG', state=2)]) = [0.17714286 0.16857143 0.37714286 0.27714286]\n",
      "With Likelihood Weighting after 6004 samples: (error = 3.52E-03)\n",
      "\n",
      "P(CONC | [State(var='TAVG', state=8), State(var='VAVG', state=2)]) = [0.17714286 0.16857143 0.37714286 0.27714286]\n",
      "With Likelihood Weighting after 7003 samples: (error = 4.21E-03)\n",
      "\n",
      "P(CONC | [State(var='TAVG', state=8), State(var='VAVG', state=2)]) = [0.17714286 0.16857143 0.37714286 0.27714286]\n",
      "With Likelihood Weighting after 8002 samples: (error = 3.98E-03)\n",
      "\n",
      "P(CONC | [State(var='TAVG', state=8), State(var='VAVG', state=2)]) = [0.17714286 0.16857143 0.37714286 0.27714286]\n",
      "With Likelihood Weighting after 9001 samples: (error = 3.38E-03)\n",
      "\n"
     ]
    }
   ],
   "source": [
    "def test_approx_inference(query, evidence, bayesian_model,\n",
    "                          min_samples=10, max_samples=10 ** 4, num_exp=10,\n",
    "                          verbose=True):\n",
    "    def abs_error(sample_probs, exact_probs):\n",
    "        abs_error = sample_probs - exact_probs\n",
    "        return np.where(abs_error > 0, abs_error, -abs_error)\n",
    "\n",
    "    def find_probs(samples, weights):\n",
    "        probs = np.zeros(len(np.unique(samples)))\n",
    "        samples_list = list(samples)\n",
    "        for index, s in enumerate(samples_list):\n",
    "            probs[s] += weights[index]\n",
    "        return probs / np.sum(weights)\n",
    "\n",
    "    bayesian_model = bayesian_model\n",
    "    sampler = BayesianModelSampling(bayesian_model)\n",
    "    exact_inference = VariableElimination(bayesian_model)\n",
    "\n",
    "    errors_lws = []\n",
    "    exact_probs = exact_inference.query([query],\n",
    "                                        dict(evidence),\n",
    "                                        show_progress=False).values\n",
    "\n",
    "    for size in range(min_samples, max_samples, (max_samples - min_samples) // num_exp):\n",
    "        lws = sampler.likelihood_weighted_sample(size=size, evidence=evidence)\n",
    "        lws_probs = find_probs(lws[query], lws['_weight'])\n",
    "        lws_error = abs_error(lws_probs, exact_probs)\n",
    "        errors_lws.append(np.mean(lws_error))\n",
    "        if verbose:\n",
    "            print(f\"P({query} | {evidence}) =\", exact_probs)\n",
    "            print(f\"With Likelihood Weighting after {size}\"\n",
    "                  f\" samples: (error = {np.mean(lws_error):.2E})\\n\")\n",
    "    return errors_lws\n",
    "\n",
    "\n",
    "evidence = [State('TAVG', 8), State('VAVG', 2)]\n",
    "err_list = test_approx_inference(\"CONC\", evidence, bayesian_model)"
   ],
   "metadata": {
    "collapsed": false,
    "pycharm": {
     "name": "#%%\n"
    }
   }
  },
  {
   "cell_type": "code",
   "execution_count": 10,
   "outputs": [
    {
     "data": {
      "text/plain": "<Figure size 432x288 with 1 Axes>",
      "image/png": "[encoded data removed]"
     },
     "metadata": {
      "needs_background": "light"
     },
     "output_type": "display_data"
    }
   ],
   "source": [
    "def print_errors(err_list):\n",
    "    plt.plot(range(1, len(err_list) + 1), err_list)\n",
    "    plt.title(\"Errors with Likelihood Weighting\")\n",
    "    plt.xlabel(\"Iterations\")\n",
    "    plt.ylabel(\"Error\")\n",
    "    plt.grid()\n",
    "    plt.legend([])\n",
    "    plt.tight_layout()\n",
    "    plt.show()\n",
    "\n",
    "\n",
    "print_errors(err_list)"
   ],
   "metadata": {
    "collapsed": false,
    "pycharm": {
     "name": "#%%\n"
    }
   }
  },
  {
   "cell_type": "code",
   "execution_count": 11,
   "outputs": [
    {
     "data": {
      "text/plain": "<IPython.core.display.Javascript object>",
      "application/javascript": "$('.output_result').css('font-size', '7pt')\n"
     },
     "metadata": {},
     "output_type": "display_data"
    }
   ],
   "source": [
    "%%javascript\n",
    "$('.output_result').css('font-size', '7pt')"
   ],
   "metadata": {
    "collapsed": false,
    "pycharm": {
     "name": "#%%\n"
    }
   }
  }
 ],
 "metadata": {
  "kernelspec": {
   "name": "python39164bit3ba8a59c6a0e472fbd1aa410cca11967",
   "language": "python",
   "display_name": "Python 3.9.1 64-bit"
  },
  "language_info": {
   "codemirror_mode": {
    "name": "ipython",
    "version": 2
   },
   "file_extension": ".py",
   "mimetype": "text/x-python",
   "name": "python",
   "nbconvert_exporter": "python",
   "pygments_lexer": "ipython2",
   "version": "2.7.6"
  }
 },
 "nbformat": 4,
 "nbformat_minor": 0
}